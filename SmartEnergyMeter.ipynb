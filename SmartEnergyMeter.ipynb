{
  "nbformat": 4,
  "nbformat_minor": 0,
  "metadata": {
    "colab": {
      "provenance": [],
      "authorship_tag": "ABX9TyMlEdNvy/WV0HsFZ5yOPNsr",
      "include_colab_link": true
    },
    "kernelspec": {
      "name": "python3",
      "display_name": "Python 3"
    },
    "language_info": {
      "name": "python"
    }
  },
  "cells": [
    {
      "cell_type": "markdown",
      "metadata": {
        "id": "view-in-github",
        "colab_type": "text"
      },
      "source": [
        "<a href=\"https://colab.research.google.com/github/RamDorak/AttendanceWeb/blob/main/SmartEnergyMeter.ipynb\" target=\"_parent\"><img src=\"https://colab.research.google.com/assets/colab-badge.svg\" alt=\"Open In Colab\"/></a>"
      ]
    },
    {
      "cell_type": "markdown",
      "source": [
        "ML Linear Regression model to predict power consumption"
      ],
      "metadata": {
        "id": "AH90NsgQIRbX"
      }
    },
    {
      "cell_type": "code",
      "execution_count": null,
      "metadata": {
        "id": "4d8OjkuauIyW"
      },
      "outputs": [],
      "source": [
        "import requests\n",
        "import pandas as pd\n",
        "from sklearn.linear_model import LinearRegression\n",
        "from sklearn.model_selection import train_test_split\n",
        "\n",
        "# Define the ThingSpeak API endpoint and the parameters\n",
        "channel_id = 'YOUR_CHANNEL_ID'\n",
        "read_key = 'YOUR_READ_API_KEY'\n",
        "url = f'https://api.thingspeak.com/channels/{channel_id}/feeds.json'\n",
        "params = {'api_key': read_key, 'results': 100}\n",
        "\n",
        "# Send a GET request to retrieve the data from ThingSpeak\n",
        "response = requests.get(url, params=params)\n",
        "\n",
        "# Convert the JSON response to a Pandas dataframe\n",
        "data = pd.json_normalize(response.json()['feeds'])\n",
        "\n",
        "# Select the fields of interest\n",
        "df = data[['field1', 'field2', 'field3']]\n",
        "\n",
        "# Rename the columns\n",
        "df.columns = ['time', 'voltage', 'current']\n",
        "\n",
        "# Convert the data types\n",
        "df = df.astype(float)\n",
        "\n",
        "# Calculate the power consumption\n",
        "df['power'] = df['voltage'] * df['current']\n",
        "\n",
        "# Split the data into training and testing sets\n",
        "X_train, X_test, y_train, y_test = train_test_split(df[['voltage', 'current']], df['power'], test_size=0.2, random_state=0)\n",
        "\n",
        "# Train the linear regression model\n",
        "regressor = LinearRegression()\n",
        "regressor.fit(X_train, y_train)\n",
        "\n",
        "# Evaluate the model\n",
        "score = regressor.score(X_test, y_test)\n",
        "print('R-squared score:', score)\n",
        "\n",
        "# Make a prediction using the latest voltage and current data\n",
        "latest_voltage = df['voltage'].iloc[-1]\n",
        "latest_current = df['current'].iloc[-1]\n",
        "predicted_power = regressor.predict([[latest_voltage, latest_current]])\n",
        "print('Predicted power consumption:', predicted_power[0])\n"
      ]
    },
    {
      "cell_type": "markdown",
      "source": [
        "ML Time Series Analysis model to visualise actual and predicted power consumption"
      ],
      "metadata": {
        "id": "SNMPqgeqIfV0"
      }
    },
    {
      "cell_type": "code",
      "source": [
        "import pandas as pd\n",
        "import numpy as np\n",
        "from statsmodels.tsa.arima.model import ARIMA\n",
        "from sklearn.metrics import mean_squared_error\n",
        "\n",
        "# Retrieve data from ThingSpeak API endpoint\n",
        "url = 'https://api.thingspeak.com/channels/YOUR_CHANNEL_ID/feeds.json'\n",
        "params = {'api_key': 'YOUR_READ_API_KEY', 'results': 1000}\n",
        "response = requests.get(url, params=params)\n",
        "data = pd.json_normalize(response.json()['feeds'])\n",
        "\n",
        "# Preprocess the data\n",
        "data['created_at'] = pd.to_datetime(data['created_at'])\n",
        "data.set_index('created_at', inplace=True)\n",
        "data_resampled = data.resample('15T').mean().interpolate(method='linear')\n",
        "power_data = data_resampled['field3']\n",
        "\n",
        "# Split the data into training and testing sets\n",
        "train_size = int(len(power_data) * 0.8)\n",
        "train_data = power_data[:train_size]\n",
        "test_data = power_data[train_size:]\n",
        "\n",
        "# Train the ARIMA model\n",
        "model = ARIMA(train_data, order=(1, 1, 1))\n",
        "model_fit = model.fit()\n",
        "\n",
        "# Make predictions on the testing data\n",
        "predictions = model_fit.forecast(steps=len(test_data))[0]\n",
        "\n",
        "# Evaluate the performance of the model\n",
        "mse = mean_squared_error(test_data, predictions)\n",
        "rmse = np.sqrt(mse)\n",
        "print('Root Mean Squared Error:', rmse)\n",
        "\n",
        "# Visualize the results\n",
        "plt.plot(test_data)\n",
        "plt.plot(predictions, color='red')\n",
        "plt.show()\n"
      ],
      "metadata": {
        "id": "HHvcnhLnIKPF"
      },
      "execution_count": null,
      "outputs": []
    }
  ]
}